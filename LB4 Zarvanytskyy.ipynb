{
 "cells": [
  {
   "cell_type": "code",
   "execution_count": 6,
   "metadata": {},
   "outputs": [
    {
     "name": "stdout",
     "output_type": "stream",
     "text": [
      "[[ 7 12 15]\n",
      " [ 0  7 12]\n",
      " [ 0  0  7]]\n",
      "[[ 7 12 15]\n",
      " [ 0  7 12]\n",
      " [ 0  0  7]]\n",
      "[[0 0 0]\n",
      " [0 0 0]\n",
      " [0 0 0]]\n"
     ]
    }
   ],
   "source": [
    "#Перше завдання 3 номер\n",
    "import numpy as np\n",
    "a = np.matrix('1 1 1; 0 1 1; 0 0 1') \n",
    "b = np.matrix('7 5 3; 0 7 5; 0 0 7') \n",
    "c = a.dot(b) \n",
    "print(c)\n",
    "d = b.dot(a) \n",
    "print(d)\n",
    "g = c - d\n",
    "print(g) \n"
   ]
  },
  {
   "cell_type": "code",
   "execution_count": 6,
   "metadata": {},
   "outputs": [
    {
     "name": "stdout",
     "output_type": "stream",
     "text": [
      "[[1 0]\n",
      " [0 1]]\n"
     ]
    }
   ],
   "source": [
    "#Друге завдання 1 номер\n",
    "a = np.array([[-1, 2], [0, 1]])\n",
    "power = np.linalg.matrix_power(a, 2)\n",
    "print(power)"
   ]
  },
  {
   "cell_type": "code",
   "execution_count": 8,
   "metadata": {},
   "outputs": [
    {
     "name": "stdout",
     "output_type": "stream",
     "text": [
      "[[ 11 -22  29]\n",
      " [  9 -27  32]\n",
      " [ 13 -17  26]]\n"
     ]
    }
   ],
   "source": [
    "#Третє завдання 2 номер\n",
    "a = np.matrix('5 8 -4; 6 9 -5; 4 7 -3')\n",
    "b = np.matrix('3 2 5; 4 -1 3; 9 6 5')\n",
    "c = a.dot(b)\n",
    "print(c)"
   ]
  },
  {
   "cell_type": "code",
   "execution_count": 18,
   "metadata": {},
   "outputs": [
    {
     "name": "stdout",
     "output_type": "stream",
     "text": [
      "[[2 3 4]\n",
      " [1 0 6]\n",
      " [7 8 9]]\n"
     ]
    },
    {
     "data": {
      "text/plain": [
       "35.00000000000001"
      ]
     },
     "execution_count": 18,
     "metadata": {},
     "output_type": "execute_result"
    }
   ],
   "source": [
    "#Четверте завдання 1 номер\n",
    "a = np.matrix('2 3 4; 1 0 6; 7 8 9')\n",
    "print(a)\n",
    "np.linalg.det(a)"
   ]
  },
  {
   "cell_type": "code",
   "execution_count": 10,
   "metadata": {},
   "outputs": [
    {
     "name": "stdout",
     "output_type": "stream",
     "text": [
      "[[2 3 4 1]\n",
      " [1 2 3 4]\n",
      " [3 4 1 2]\n",
      " [4 1 2 3]]\n"
     ]
    },
    {
     "data": {
      "text/plain": [
       "-160.00000000000009"
      ]
     },
     "execution_count": 10,
     "metadata": {},
     "output_type": "execute_result"
    }
   ],
   "source": [
    "#П'яте завдання 2 номер\n",
    "a = np.matrix('2 3 4 1; 1 2 3 4; 3 4 1 2; 4 1 2 3')\n",
    "print(a)\n",
    "np.linalg.det(a)"
   ]
  },
  {
   "cell_type": "code",
   "execution_count": 11,
   "metadata": {},
   "outputs": [
    {
     "name": "stdout",
     "output_type": "stream",
     "text": [
      "[[ 0.11111111  0.22222222  0.22222222]\n",
      " [ 0.22222222  0.11111111 -0.22222222]\n",
      " [ 0.22222222 -0.22222222  0.11111111]]\n"
     ]
    }
   ],
   "source": [
    "#Шосте завдання 3 номер\n",
    "a = np.matrix('1 2 2; 2 1 -2; 2 -2 1')\n",
    "a_inv = np.linalg.inv(a)\n",
    "print(a_inv)"
   ]
  },
  {
   "cell_type": "code",
   "execution_count": 12,
   "metadata": {},
   "outputs": [
    {
     "name": "stdout",
     "output_type": "stream",
     "text": [
      "3\n"
     ]
    }
   ],
   "source": [
    "#Сьоме завдання 3 номер\n",
    "a = np.matrix('-2 3 1 -1; 3 2 1 4; 1 2 3 4; 0 2 3 3')\n",
    "rank = np.linalg.matrix_rank(a)\n",
    "print(rank)"
   ]
  },
  {
   "cell_type": "code",
   "execution_count": 7,
   "metadata": {},
   "outputs": [
    {
     "name": "stdout",
     "output_type": "stream",
     "text": [
      "A= [[ 2 -1  1]\n",
      " [ 3  4 -2]\n",
      " [ 1 -3  1]]\n",
      "B= [[ 5]\n",
      " [-3]\n",
      " [ 4]]\n",
      "[[ 0.16666667  0.16666667  0.16666667]\n",
      " [ 0.41666667 -0.08333333 -0.58333333]\n",
      " [ 1.08333333 -0.41666667 -0.91666667]]\n",
      "X= [[ 1.0000000e+00]\n",
      " [-4.4408921e-16]\n",
      " [ 3.0000000e+00]]\n"
     ]
    }
   ],
   "source": [
    "#Восьме завдання 11 номер. Матричний метод\n",
    "a = np.matrix('2 -1 1; 3 4 -2; 1 -3 1')\n",
    "b = np.matrix('5; -3; 4')\n",
    "print('A=', a)\n",
    "print('B=',b)\n",
    "a_inv = np.linalg.inv(a)\n",
    "print(a_inv)\n",
    "x = a_inv.dot(b)\n",
    "print('X=',x)"
   ]
  },
  {
   "cell_type": "code",
   "execution_count": 9,
   "metadata": {},
   "outputs": [
    {
     "name": "stdout",
     "output_type": "stream",
     "text": [
      "A= [[ 2 -1  1]\n",
      " [ 3  4 -2]\n",
      " [ 1 -3  1]]\n",
      "B= [[ 5]\n",
      " [-3]\n",
      " [ 4]]\n",
      "Детермінант матриці =  -12.0\n",
      "Розв*язуємо систему\n",
      "x_m= [[ 5 -1  1]\n",
      " [-3  4 -2]\n",
      " [ 4 -3  1]]\n",
      "y_m= [[ 2  5  1]\n",
      " [ 3 -3 -2]\n",
      " [ 1  4  1]]\n",
      "z_m= [[ 2 -1  5]\n",
      " [ 3  4 -3]\n",
      " [ 1 -3  4]]\n",
      "X =  1.0\n",
      "Y= 0.0\n",
      "Z= 3.0\n"
     ]
    }
   ],
   "source": [
    "#Восьме завдання 11 номер. Метод Крамера\n",
    "a = np.matrix('2 -1 1; 3 4 -2; 1 -3 1')\n",
    "print('A=',a)\n",
    "b = np.matrix('5; -3; 4')\n",
    "print('B=',b)\n",
    "\n",
    "def kramer (a, b):\n",
    "    a_det = np.linalg.det(a)\n",
    "    print('Детермінант матриці = ', a_det)\n",
    "#Зробити реревірку,що детермінант не дорівнює нулю\n",
    "    if (a_det != 0):\n",
    "        print ('Розв*язуємо систему')\n",
    "        \n",
    "        x_m = np.matrix(a)\n",
    "        x_m[:, 0] = b # 1 cт. замінюємо на  ст.b\n",
    "        print('x_m=', x_m)\n",
    "        y_m = np.matrix(a)\n",
    "        y_m[:, 1] = b # 2 cт. замінюємо на  ст.b\n",
    "        print('y_m=',y_m)\n",
    "\n",
    "        z_m = np.matrix(a)\n",
    "        z_m[:, 2] = b # 3 cт. замінюємо на  ст.b\n",
    "        print('z_m=',z_m)\n",
    "\n",
    "        x = np.linalg.det(x_m) / a_det\n",
    "        y = np.linalg.det(y_m) / a_det\n",
    "        z = np.linalg.det(z_m) / a_det\n",
    "        print('X = ', round(x,5))\n",
    "        print('Y=', round(y,5))\n",
    "        print('Z=', round(z,5))\n",
    "    else:\n",
    "        print('Розв*язків немає')\n",
    "kramer(a,b)"
   ]
  },
  {
   "cell_type": "code",
   "execution_count": 30,
   "metadata": {},
   "outputs": [
    {
     "name": "stdout",
     "output_type": "stream",
     "text": [
      "[[0 2 1]\n",
      " [0 1 2]\n",
      " [1 2 3]]\n",
      "Сума всіх елемнтів = 12\n",
      "Сума елемнтів 1 рядка = 3\n",
      "Сума елементів 2 рядка = 3\n",
      "Сума елементів 3 рядка = 6\n",
      "Доля 1 рядка = 25.0 %\n",
      "Доля 2 рядка = 25.0 %\n",
      "Доля 3 рядка = 50.0 %\n"
     ]
    }
   ],
   "source": [
    "#Останнє завдання номер 5\n",
    "a = np.array([[0, 2, 1], [0, 1, 2], [1, 2, 3]])\n",
    "print(a)\n",
    "suma = np.sum(a)\n",
    "print(\"Сума всіх елемнтів =\", suma)\n",
    "suma1 = np.sum(a[0])\n",
    "print(\"Сума елемнтів 1 рядка =\",suma1)\n",
    "suma2 = np.sum(a[1])\n",
    "print(\"Сума елементів 2 рядка =\",suma2)\n",
    "suma3 = np.sum(a[2])\n",
    "print(\"Сума елементів 3 рядка =\",suma3)\n",
    "portion1 = suma1 / suma * 100\n",
    "portion2 = suma2 / suma * 100\n",
    "portion3 = suma3 / suma * 100\n",
    "print(\"Доля 1 рядка =\", portion1,\"%\")\n",
    "print(\"Доля 2 рядка =\", portion2,\"%\")\n",
    "print(\"Доля 3 рядка =\", portion3,\"%\")"
   ]
  }
 ],
 "metadata": {
  "kernelspec": {
   "display_name": "Python 3.9.7 64-bit",
   "language": "python",
   "name": "python3"
  },
  "language_info": {
   "codemirror_mode": {
    "name": "ipython",
    "version": 3
   },
   "file_extension": ".py",
   "mimetype": "text/x-python",
   "name": "python",
   "nbconvert_exporter": "python",
   "pygments_lexer": "ipython3",
   "version": "3.9.7"
  },
  "orig_nbformat": 4,
  "vscode": {
   "interpreter": {
    "hash": "1bee5e7e2c7b1cfde3da9ecfbf4e58ea8a4baa99681fdde066bfd813146f5b8e"
   }
  }
 },
 "nbformat": 4,
 "nbformat_minor": 2
}
