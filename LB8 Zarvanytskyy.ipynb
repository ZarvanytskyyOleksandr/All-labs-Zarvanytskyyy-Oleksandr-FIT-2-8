{
 "cells": [
  {
   "cell_type": "code",
   "execution_count": 1,
   "metadata": {},
   "outputs": [
    {
     "name": "stdout",
     "output_type": "stream",
     "text": [
      "The value of a function at a point x1= 1.416 using Newton*s First Interpolation Formula 0.88866\n"
     ]
    }
   ],
   "source": [
    "import numpy as np\n",
    "from math import factorial\n",
    "import matplotlib.pyplot as plt\n",
    "\n",
    "\n",
    "x=[1.415, 1.420, 1.425, 1.430, 1.435, 1.440]\n",
    "y=[0.8885, 0.8895, 0.8906, 0.8916, 0.8926, 0.8936]\n",
    "h = x[1] - x[0]\n",
    "x1=1.416\n",
    "x2=1.431\n",
    "q=(x1 - x[0])/h #Для 1 інтерп. ф-ли Нтютона\n",
    "q1 = (x2-x[-1])/h #Для 2 інтерп. ф-ли Нтютона\n",
    "def n(y,j): #обчислення кінцевих різниць\n",
    "    mas=[]\n",
    "    for i in range(len(y)):\n",
    "        mas.append(y[i] - y[i-1])\n",
    "    mas.pop(0)  \n",
    "    if j == 1:\n",
    "        return mas\n",
    "    else:\n",
    "        j-=1\n",
    "        return n(mas, j)\n",
    " #Перша інтерполяційна формула Ньютона   \n",
    "s_1 = y[0]+q*n(y,1)[0]+q*(q-1)*n(y,2)[0]/factorial(2)\n",
    "s_2 = q*(q-1)*(q-2)*n(y,3)[0]/factorial(3)\n",
    "s_3 = q*(q-1)*(q-2)*(q-3)*n(y,4)[0]/factorial(4)\n",
    "s_4 = q*(q-1)*(q-2)*(q-3)*(q-4)*n(y,5)[0]/factorial(5)\n",
    "n_1 = s_1 + s_2 + s_3 + s_4\n",
    "\n",
    "#Спроба обчислити n_1 через цикл\n",
    "#n_1=y[0] \n",
    "#for  k in range(len(y)):\n",
    "#    prod = (q-k)*n(y,k+1)[0]/factorial(k+1)\n",
    "#    n_1=n_1 + q*prod\n",
    "print ('The value of a function at a point x1=', x1, 'using Newton*s First Interpolation Formula', round(n_1,5))\n",
    "\n"
   ]
  },
  {
   "cell_type": "code",
   "execution_count": 2,
   "metadata": {},
   "outputs": [
    {
     "name": "stdout",
     "output_type": "stream",
     "text": [
      "The value of a function at a point x2= 1.431 using Newton*s Second Interpolation Formula 0.8918\n"
     ]
    }
   ],
   "source": [
    "#Друга інтерполяційна формула Ньютона\n",
    "t1 = y[5] + q1*n(y,1)[4]+q1*(q1+1)*n(y,2)[3]/factorial(2)\n",
    "t2 = q1*(q1+1)*(q1+2)*n(y,3)[2]/factorial(3)\n",
    "t3 = q1*(q1+1)*(q1+2)*(q1+3)*n(y,4)[1]/factorial(4)\n",
    "t4 = q1*(q1+1)*(q1+2)*(q1+3)*(q1+4)*n(y,4)[1]/factorial(5)\n",
    "n_2 =  t1+t2+t3+t4\n",
    "#Можна спробувати написати цикл\n",
    "print ('The value of a function at a point x2=', x2, 'using Newton*s Second Interpolation Formula', round(n_2,5))"
   ]
  },
  {
   "cell_type": "code",
   "execution_count": 3,
   "metadata": {},
   "outputs": [
    {
     "data": {
      "image/png": "[encoded data removed]",
      "text/plain": [
       "<Figure size 432x288 with 1 Axes>"
      ]
     },
     "metadata": {
      "needs_background": "light"
     },
     "output_type": "display_data"
    }
   ],
   "source": [
    "x_1=np.linspace(np.min(x), np.max(x))\n",
    "y_1=np.linspace(np.min(y), np.max(y))\n",
    "plt.plot(x,y, 'ro', x_1, y_1)\n",
    "plt.title('Graph of the interpolation function')\n",
    "plt.xlabel('x')\n",
    "plt.ylabel('y')\n",
    "plt.grid()\n",
    "plt.show()\n"
   ]
  }
 ],
 "metadata": {
  "kernelspec": {
   "display_name": "Python 3.9.7 64-bit",
   "language": "python",
   "name": "python3"
  },
  "language_info": {
   "codemirror_mode": {
    "name": "ipython",
    "version": 3
   },
   "file_extension": ".py",
   "mimetype": "text/x-python",
   "name": "python",
   "nbconvert_exporter": "python",
   "pygments_lexer": "ipython3",
   "version": "3.9.7"
  },
  "orig_nbformat": 4,
  "vscode": {
   "interpreter": {
    "hash": "1bee5e7e2c7b1cfde3da9ecfbf4e58ea8a4baa99681fdde066bfd813146f5b8e"
   }
  }
 },
 "nbformat": 4,
 "nbformat_minor": 2
}
