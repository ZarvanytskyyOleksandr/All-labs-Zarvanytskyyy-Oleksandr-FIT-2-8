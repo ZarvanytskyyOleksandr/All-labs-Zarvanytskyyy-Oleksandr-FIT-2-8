{
 "cells": [
  {
   "cell_type": "code",
   "execution_count": 1,
   "metadata": {},
   "outputs": [
    {
     "data": {
      "image/png": "[encoded data removed]",
      "text/plain": [
       "<Figure size 432x288 with 1 Axes>"
      ]
     },
     "metadata": {
      "needs_background": "light"
     },
     "output_type": "display_data"
    }
   ],
   "source": [
    "import numpy as np\n",
    "import math\n",
    "import matplotlib.pyplot as plt\n",
    "\n",
    "def f(x):\n",
    "    return 3*x**4 + 2*x**3 + x**2 + x - 5\n",
    "\n",
    "a = -0.5\n",
    "b = 0\n",
    "eps = 0.0001 #точність\n",
    "\n",
    "def rec_dyhotomy(a, b, eps):\n",
    "    if abs(f(b) - f(a)) < eps:\n",
    "        print('Кореня немає')\n",
    "    return\n",
    "\n",
    "mid = (a+b) / 2\n",
    "\n",
    "if f(mid) == 0 or abs(f(mid)) < eps:\n",
    "    print(f'Корінь знаходиться в точці x = {mid}')\n",
    "elif f(a)*f(mid) < 0:\n",
    "    rec_dyhotomy(a, mid, eps)\n",
    "else:\n",
    "    rec_dyhotomy(mid, b, eps)\n",
    "\n",
    "rec_dyhotomy(a, b, eps)\n",
    "\n",
    "x = np.arange(-0.5, 0, 0.0001)\n",
    "\n",
    "plt.plot(x, f(x))\n",
    "plt.xlabel('x')\n",
    "plt.ylabel('f(x)')\n",
    "plt.title('Метод ділення навпіл')\n",
    "plt.grid()\n",
    "plt.show()"
   ]
  },
  {
   "cell_type": "code",
   "execution_count": 2,
   "metadata": {},
   "outputs": [
    {
     "name": "stdout",
     "output_type": "stream",
     "text": [
      "Кореня немає\n",
      "Кореня немає\n"
     ]
    }
   ],
   "source": [
    "import numpy as np\n",
    "import matplotlib.pyplot as plt\n",
    "\n",
    "def f(x):\n",
    "    return 3*x**4 + 2*x**3 + x**2 + x - 5\n",
    "\n",
    "eps = 0.0001 \n",
    "\n",
    "def rec_dyhotomy(a, b, eps):\n",
    "    if abs(f(b) - f(a)) < eps:\n",
    "        print('Кореня немає')\n",
    "        return\n",
    "    mid = (a+b) / 2\n",
    "    if f(mid) == 0 or abs(f(mid)) < eps:\n",
    "            print(f'Корінь знаходиться в точці x = {mid}')\n",
    "    elif f(a)*f(mid) < 0:\n",
    "        rec_dyhotomy(a, mid, eps)\n",
    "    else:\n",
    "        rec_dyhotomy(mid, b, eps)\n",
    "\n",
    "rec_dyhotomy(-1, -0.5, eps)\n",
    "rec_dyhotomy(-0.5, 0, eps)"
   ]
  },
  {
   "cell_type": "code",
   "execution_count": 3,
   "metadata": {},
   "outputs": [
    {
     "name": "stdout",
     "output_type": "stream",
     "text": [
      "Корінь знаходиться в точці x = -1.3234839336823865\n"
     ]
    }
   ],
   "source": [
    "from scipy.misc import derivative\n",
    "\n",
    "\n",
    "def f(x):\n",
    "    return 3*x**4 + 2*x**3 + x**2 + x - 5\n",
    "\n",
    "a = -1\n",
    "b = 0\n",
    "eps = 0.001\n",
    "\n",
    "def hord (a, b, eps):\n",
    "    if abs(b - a) < eps:\n",
    "        print('Кореня немає')\n",
    "        return\n",
    "    if (f(a)*derivative(f, a, n = 2)):\n",
    "        x0 = a\n",
    "        xi = b\n",
    "    else:\n",
    "        x0 = b\n",
    "        xi = a    \n",
    "    xi_1 = xi - (xi - x0) * f(xi)/(f(xi) - f(x0))\n",
    "    while (abs(xi_1 - xi) > eps):\n",
    "        xi = xi_1\n",
    "        xi_1 = xi-(xi - x0) * f(xi)/(f(xi) - f(x0))\n",
    "    else:\n",
    "        print(f'Корінь знаходиться в точці x =', xi_1)\n",
    "hord (a, b, eps)"
   ]
  }
 ],
 "metadata": {
  "kernelspec": {
   "display_name": "Python 3.9.7 64-bit",
   "language": "python",
   "name": "python3"
  },
  "language_info": {
   "codemirror_mode": {
    "name": "ipython",
    "version": 3
   },
   "file_extension": ".py",
   "mimetype": "text/x-python",
   "name": "python",
   "nbconvert_exporter": "python",
   "pygments_lexer": "ipython3",
   "version": "3.9.7"
  },
  "orig_nbformat": 4,
  "vscode": {
   "interpreter": {
    "hash": "1bee5e7e2c7b1cfde3da9ecfbf4e58ea8a4baa99681fdde066bfd813146f5b8e"
   }
  }
 },
 "nbformat": 4,
 "nbformat_minor": 2
}
