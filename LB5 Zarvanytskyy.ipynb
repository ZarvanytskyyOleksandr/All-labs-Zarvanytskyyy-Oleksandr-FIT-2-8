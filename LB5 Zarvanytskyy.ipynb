{
 "cells": [
  {
   "cell_type": "code",
   "execution_count": 7,
   "id": "d97498bf",
   "metadata": {},
   "outputs": [
    {
     "name": "stdout",
     "output_type": "stream",
     "text": [
      "Simple iteration:\n",
      "x= 0.5100908282385754 \n",
      "y= -0.20177164088397637 \n",
      "The amount of iteration =  4\n",
      "Check [ 0.51015016 -0.20183842]\n"
     ]
    }
   ],
   "source": [
    "import numpy as np\n",
    "from scipy import optimize\n",
    "from scipy.misc import derivative\n",
    "import math\n",
    "\n",
    "x0 = -0.29\n",
    "y0 = 0.73\n",
    "delta = 0.1\n",
    "\n",
    "def f1(y):\n",
    "    return math.sin(y + 1) - 1.2 #задаємо функції\n",
    "def f2 (x):\n",
    "    return 1 - 1/2*math.cos(x) #задаємо функції\n",
    "\n",
    " \n",
    "def iter (x,y,e):\n",
    "    xn = x\n",
    "    yn = y\n",
    "    xn1 = f2(x)\n",
    "    yn1 = f1(y)\n",
    "    n = 1\n",
    "    while ((abs(xn1-xn)>=e) & (abs(yn1-yn) >=e)):\n",
    "        xn = xn1\n",
    "        yn = yn1\n",
    "        xn1 = f2(yn)\n",
    "        yn1 = f1(xn)\n",
    "        n += 1\n",
    "    print ('Simple iteration:')\n",
    "    print ('x=', xn, '\\ny=',yn,'\\nThe amount of iteration = ',n)\n",
    "iter(x0,y0,0.0001)\n",
    "\n",
    "\n",
    "def f3(x): #Задаємо функцію для перевірки\n",
    "    return math.sin(x[0] + 1) - x[1] - 1.2, 2*x[0] + math.cos(x[1]) - 2\n",
    "s = optimize.root(f3, [0.,0.], method = 'hybr') #Перевірка розв*язку Відповіді мають співпасти\n",
    "print ('Check',s.x)\n",
    "\n"
   ]
  },
  {
   "cell_type": "code",
   "execution_count": 4,
   "id": "e7feb666",
   "metadata": {},
   "outputs": [
    {
     "name": "stderr",
     "output_type": "stream",
     "text": [
      "C:\\Users\\zov2703\\AppData\\Local\\Temp/ipykernel_7840/1601279815.py:6: RuntimeWarning: invalid value encountered in arccos\n",
      "  plt.plot(x1, np.arccos( 0.8 - x1) - 0.5)\n",
      "C:\\Users\\zov2703\\AppData\\Local\\Temp/ipykernel_7840/1601279815.py:7: RuntimeWarning: invalid value encountered in arccos\n",
      "  plt.plot(x1, -np.arccos(0.8 - x1) - 0.5)\n"
     ]
    },
    {
     "data": {
      "image/png": "[encoded data removed]",
      "text/plain": [
       "<Figure size 432x288 with 1 Axes>"
      ]
     },
     "metadata": {
      "needs_background": "light"
     },
     "output_type": "display_data"
    }
   ],
   "source": [
    "import numpy as np\n",
    "import matplotlib.pyplot as plt\n",
    "x = np.arange(-3, 3, 0.1)\n",
    "x1 = np.arange(-0.5, 0.5, 0.1)\n",
    "\n",
    "plt.plot(x1, np.arccos( 0.8 - x1) - 0.5)\n",
    "plt.plot(x1, -np.arccos(0.8 - x1) - 0.5)\n",
    "plt.plot(x, 1/2 * np.sin(x) - 0.8)\n",
    "plt.xlabel('x')\n",
    "plt.ylabel('y')\n",
    "plt.title('Відокремлення коренів графічним способом')\n",
    "plt.grid()\n",
    "plt.show()"
   ]
  },
  {
   "cell_type": "code",
   "execution_count": null,
   "id": "2720fcf2",
   "metadata": {},
   "outputs": [],
   "source": []
  }
 ],
 "metadata": {
  "kernelspec": {
   "display_name": "Python 3.9.7 64-bit",
   "language": "python",
   "name": "python3"
  },
  "language_info": {
   "codemirror_mode": {
    "name": "ipython",
    "version": 3
   },
   "file_extension": ".py",
   "mimetype": "text/x-python",
   "name": "python",
   "nbconvert_exporter": "python",
   "pygments_lexer": "ipython3",
   "version": "3.9.7"
  },
  "vscode": {
   "interpreter": {
    "hash": "1bee5e7e2c7b1cfde3da9ecfbf4e58ea8a4baa99681fdde066bfd813146f5b8e"
   }
  }
 },
 "nbformat": 4,
 "nbformat_minor": 5
}
