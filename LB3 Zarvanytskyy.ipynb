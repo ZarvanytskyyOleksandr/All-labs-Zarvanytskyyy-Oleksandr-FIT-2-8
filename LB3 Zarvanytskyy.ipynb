{
 "cells": [
  {
   "cell_type": "code",
   "execution_count": 1,
   "metadata": {},
   "outputs": [
    {
     "name": "stdout",
     "output_type": "stream",
     "text": [
      "Solving the equation by Newton*s method x =  -1.3236835915009693\n"
     ]
    }
   ],
   "source": [
    "import numpy as np\n",
    "import math\n",
    "from scipy.misc import derivative\n",
    "\n",
    "def f(x):\n",
    "    return 3*pow(x,4) + 2*pow(x,3) + pow(x,2) + x - 5\n",
    "\n",
    "a = -1\n",
    "b = 0\n",
    "eps = 0.0001 #точність\n",
    "\n",
    "def nuton(a,b,eps):\n",
    "    df2 = derivative(f, b, n = 2)\n",
    "    if (f(b)*df2>0):\n",
    "        xi = b\n",
    "    else:\n",
    "        xi = a\n",
    "    df = derivative(f,xi, n= 1)\n",
    "    xi_1 = xi - f(xi)/df\n",
    "    while (abs(xi_1 - xi)>eps): #accuracy check\n",
    "        xi = xi_1\n",
    "        xi_1 = xi - f(xi)/df\n",
    "    return print ('Solving the equation by Newton*s method x = ', xi_1)\n",
    "\n",
    "nuton (a,b,eps)     "
   ]
  },
  {
   "cell_type": "code",
   "execution_count": 2,
   "metadata": {},
   "outputs": [
    {
     "name": "stdout",
     "output_type": "stream",
     "text": [
      "Solving the equation by the combined method x = 0.8916492905715736\n"
     ]
    }
   ],
   "source": [
    "import numpy as np\n",
    "import math\n",
    "from scipy.misc import derivative\n",
    "\n",
    "def f(x):\n",
    "    return 3*pow(x,4) + 2*pow(x,3) + pow(x,2) + x - 5\n",
    "\n",
    "a = -1\n",
    "b = 0\n",
    "eps = 0.0001 #точність\n",
    "\n",
    "def combine(a,b,eps):\n",
    "    if(derivative(f, a, n = 1) * derivative (f, a, n = 2) > 0):\n",
    "        a0 = a\n",
    "        b0 = b\n",
    "    else:\n",
    "        a0 = a\n",
    "        b0 = b\n",
    "    ai = a0\n",
    "    bi = b0\n",
    "    while abs(ai - bi) > eps:\n",
    "        ai_1 = ai - f(ai) * (bi - ai) / (f(bi) - f(ai))\n",
    "        bi_1 = bi - f(bi) / derivative(f, bi, n = 1)\n",
    "        ai = ai_1\n",
    "        bi = bi_1\n",
    "    x = (ai_1 + bi_1) / 2           \n",
    "    return print ('Solving the equation by the combined method x =', x)\n",
    "\n",
    "\n",
    "combine(a, b, eps)\n"
   ]
  }
 ],
 "metadata": {
  "kernelspec": {
   "display_name": "Python 3.9.7 64-bit",
   "language": "python",
   "name": "python3"
  },
  "language_info": {
   "codemirror_mode": {
    "name": "ipython",
    "version": 3
   },
   "file_extension": ".py",
   "mimetype": "text/x-python",
   "name": "python",
   "nbconvert_exporter": "python",
   "pygments_lexer": "ipython3",
   "version": "3.9.7"
  },
  "orig_nbformat": 4,
  "vscode": {
   "interpreter": {
    "hash": "1bee5e7e2c7b1cfde3da9ecfbf4e58ea8a4baa99681fdde066bfd813146f5b8e"
   }
  }
 },
 "nbformat": 4,
 "nbformat_minor": 2
}
