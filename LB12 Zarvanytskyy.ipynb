{
 "cells": [
  {
   "cell_type": "code",
   "execution_count": 18,
   "metadata": {},
   "outputs": [
    {
     "name": "stdout",
     "output_type": "stream",
     "text": [
      "Trapetzia method: 0.29335\n",
      "Check for the trapetzia method=  0.29335\n"
     ]
    }
   ],
   "source": [
    "from scipy import integrate\n",
    "import math\n",
    "eps = 0.001\n",
    "\n",
    "def f1(x):\n",
    "    return 1/math.sqrt(0.5*x**2+1)\n",
    "\n",
    "def trap(f1,a,b,n):\n",
    "    h=(b-a)/n\n",
    "    sum=0.5*(f1(a)+f1(b))\n",
    "    for i in range(1,n):\n",
    "        sum+=f1(a+i*h)\n",
    "    return sum*h\n",
    "\n",
    "v,err = integrate.quad(f1,3.2,4)#Перевірка\n",
    "\n",
    "#Перевірка точності за правилом Рунге:\n",
    "if abs (trap(f1, 3.2, 4, 2*20) -trap(f1, 3.2, 4, 20))/3. <= eps:\n",
    "    print(\"Trapetzia method:\",round (trap(f1,3.2,4,20), 5))\n",
    "print(\"Check for the trapetzia method= \",round(v, 5))"
   ]
  },
  {
   "cell_type": "code",
   "execution_count": 23,
   "metadata": {},
   "outputs": [
    {
     "name": "stdout",
     "output_type": "stream",
     "text": [
      "right rectangle: 1.13541\n",
      "average rectangle: 1.19054\n",
      "Check for the rectangle method=  1.16228\n"
     ]
    }
   ],
   "source": [
    "from scipy import integrate\n",
    "import math\n",
    "eps = 0.001\n",
    "\n",
    "def f1(x):\n",
    "    return 1/math.sqrt(x-1)\n",
    "\n",
    "def left_rec(f1,a,b,n):\n",
    "    h=(b-a)/n\n",
    "    sum=0\n",
    "    for i in range(0,n):\n",
    "        sum+=f1(a+i*h)\n",
    "    return sum*h\n",
    "\n",
    "v,err = integrate.quad(f1, 2, 3.5)#Перевірка\n",
    "\n",
    "#Перевірка точності за правилом Рунге:\n",
    "\n",
    "if abs(left_rec(f1, 2, 3.5, 2*10) - left_rec(f1, 2, 3.5, 10))/3. <=eps:\n",
    "    print(\"left rectangle:\",round (left_rec(f1, 2, 3.5, 10), 5))\n",
    "\n",
    "def right_rec(f1,a,b,n):\n",
    "    h=(b-a)/n\n",
    "    sum=0\n",
    "    for i in range(1,n+1):\n",
    "        sum+=f1(a+i*h)\n",
    "    return sum*h\n",
    "\n",
    "print(\"right rectangle:\",round (right_rec(f1, 2, 3.5, 10), 5))\n",
    "\n",
    "def aver_rec(f1,a,b,n):\n",
    "    h=(b-a)/n\n",
    "    sum=0\n",
    "    for i in range(0,n):\n",
    "        sum+=f1(a+i*h)\n",
    "    return sum*h\n",
    "\n",
    "print(\"average rectangle:\",round (aver_rec(f1, 2, 3.5, 10), 5))\n",
    "print(\"Check for the rectangle method= \",round (v, 5))"
   ]
  },
  {
   "cell_type": "code",
   "execution_count": 20,
   "metadata": {},
   "outputs": [
    {
     "name": "stdout",
     "output_type": "stream",
     "text": [
      "Check for the simpsone method=  0.26138\n"
     ]
    }
   ],
   "source": [
    "from scipy import integrate\n",
    "import math\n",
    "eps = 0.001\n",
    "\n",
    "def f1(x):\n",
    "    return math.sin(x)/(x+1)\n",
    "\n",
    "def simpson(a,b,n):\n",
    "    h = (b - a) / n\n",
    "    integr = f1(a) + f1(b)\n",
    "    for i in range(1,n):\n",
    "        k = a + i*h\n",
    "    if i%2 == 0:\n",
    "        integr += 2 * f1(k)\n",
    "    else:\n",
    "        integr += 4 * f1(k)\n",
    "    integr *= h/3\n",
    "    return integr\n",
    "\n",
    "if abs(simpson(0.18,0.98,2*8) -simpson(0.18,0.98,8))/ 15. <= eps:\n",
    "    print(\"Simpsone method:\",round (simpson(0.18,0.98,8), 5))\n",
    "\n",
    "v,err = integrate.quad(f1,0.18,0.98)#Перевірка\n",
    "print(\"Check for the simpsone method= \",round(v, 5))"
   ]
  }
 ],
 "metadata": {
  "kernelspec": {
   "display_name": "Python 3.9.7 64-bit",
   "language": "python",
   "name": "python3"
  },
  "language_info": {
   "codemirror_mode": {
    "name": "ipython",
    "version": 3
   },
   "file_extension": ".py",
   "mimetype": "text/x-python",
   "name": "python",
   "nbconvert_exporter": "python",
   "pygments_lexer": "ipython3",
   "version": "3.9.7"
  },
  "orig_nbformat": 4,
  "vscode": {
   "interpreter": {
    "hash": "1bee5e7e2c7b1cfde3da9ecfbf4e58ea8a4baa99681fdde066bfd813146f5b8e"
   }
  }
 },
 "nbformat": 4,
 "nbformat_minor": 2
}
